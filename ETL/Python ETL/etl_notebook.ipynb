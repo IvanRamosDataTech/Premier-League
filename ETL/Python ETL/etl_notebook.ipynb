{
 "cells": [
  {
   "cell_type": "code",
   "execution_count": null,
   "id": "06bbf586-883c-43b3-9307-84e3e11406cf",
   "metadata": {},
   "outputs": [],
   "source": [
    "# In case iPython does not find our personalized modules and we want to import them manually\n",
    "# import sys\n",
    "# sys.path.append('my/path/to/module/folder')\n",
    "# import module_of_interest\n",
    "\n",
    "# We can also make sure what's the main directory iPhython consider for running\n",
    "# import os\n",
    "# os.getcwd()\n",
    "\n",
    "import constants\n",
    "import requests\n",
    "import pandas as pd\n",
    "import numpy as np\n",
    "import psycopg2\n",
    "import csv\n",
    "import datetime\n",
    "from psycopg2 import sql\n",
    "import csv\n",
    "\n",
    "pd.set_option('display.max_rows', 100)\n",
    "pd.set_option('display.max_columns', 50)\n"
   ]
  },
  {
   "cell_type": "code",
   "execution_count": null,
   "id": "2720b039-1c44-4a68-80a1-3c0cb151fe56",
   "metadata": {},
   "outputs": [],
   "source": [
    "def calculate_matchweek(conn):\n",
    "    \"\"\"\n",
    "        Finds out last registered matchweek for current season in Database. \n",
    "        Returns last registerered matchweek plus one. If there's any problem \n",
    "        with databse or season has not even started, then returns default matchweek \"1\"\n",
    "    \"\"\"\n",
    "    try:\n",
    "        cursor = conn.cursor()\n",
    "        matchweek_query = f\"SELECT MAX(\\\"MatchWeek\\\") FROM public.match_history WHERE \\\"Season\\\" = '{constants.CURRENT_SEASON_TAG}'\"\n",
    "        cursor.execute(matchweek_query)\n",
    "        matchweek_result = cursor.fetchone()\n",
    "        if matchweek_result[0] is None:\n",
    "            return constants.DEFAULT_MATCHWEEK\n",
    "        else:\n",
    "            # Next matchweek\n",
    "            return matchweek_result[0] + 1\n",
    "    except psycopg2.Error as e:\n",
    "        print (\"An error ocurred in database\")\n",
    "        print (e)\n",
    "        return constants.DEFAULT_MATCHWEEK\n",
    "    finally:\n",
    "        cursor.close()"
   ]
  },
  {
   "cell_type": "code",
   "execution_count": null,
   "id": "35a7b08c-235e-4284-8aa7-346da40920e6",
   "metadata": {},
   "outputs": [],
   "source": [
    "def upsert_query(to_table, reference_column, dataframe):\n",
    "    \"\"\"\n",
    "        Generates a Composed SQL object that contains all necessary SQL code to \n",
    "        perform upserts into a postgresql table from dataframe as source.\n",
    "        If row attempted to insert is already present in database, then engine\n",
    "        will skip insertion. \n",
    "\n",
    "        Input:\n",
    "            to_table - target table name in format 'schema.table_name' to generate inserts \n",
    "            reference_column - Column name of your table that is considered PK to avoid overwritings\n",
    "            dataframe - pandas dataframe containing all rows to be inserted\n",
    "    \"\"\"\n",
    "    date_config = sql.SQL('SET datestyle = \"ISO, DMY\"; ')\n",
    "    \n",
    "    insert_header = sql.SQL(\"INSERT INTO \" + to_table + \" ({fields})\").format(\n",
    "        fields = sql.SQL(',').join([sql.Identifier(column) for column in dataframe.columns])\n",
    "    )\n",
    "    \n",
    "    values_array = []\n",
    "    for row in dataframe.iterrows():\n",
    "        values_array.append(sql.SQL(\" ({values})\").format(\n",
    "            values = sql.SQL(',').join([sql.Literal(value) for value in row[1].values])\n",
    "        ))\n",
    "    \n",
    "    insert_values = sql.SQL(' VALUES ') + sql.SQL(',').join(values_array)\n",
    "    \n",
    "    insert_condition = sql.SQL(\" ON CONFLICT({conflict_col}) DO NOTHING\").format(\n",
    "        conflict_col = sql.Identifier(reference_column)\n",
    "    )\n",
    "    \n",
    "    insert_statement = date_config + insert_header + insert_values + insert_condition\n",
    "   \n",
    "    return insert_statement"
   ]
  },
  {
   "cell_type": "code",
   "execution_count": null,
   "id": "f7a26518-0b1c-4828-ba81-e24393c45349",
   "metadata": {},
   "outputs": [],
   "source": [
    "# -- EXTRACTION\n",
    "\n",
    "website_frame = pd.read_csv(constants.CSV_SOURCE_URL)"
   ]
  },
  {
   "cell_type": "code",
   "execution_count": null,
   "id": "72586d40-0b33-4575-a3a4-ce3dd3cc725d",
   "metadata": {},
   "outputs": [],
   "source": [
    "# -- TRANSFORMATION\n",
    "\n",
    "# Remove unwanted columns\n",
    "\n",
    "unwanted_cols = [\"Div\", \"BWH\", \"BWD\", \"BWA\", \"IWH\", \"IWD\", \"IWA\", \"PSH\", \"PSD\", \"PSA\", \"WHH\", \"WHD\", \"WHA\", \"VCH\", \"VCD\", \"VCA\",\n",
    "                 \"P>2.5\", \"P<2.5\",\"AHh\", \"B365AHH\", \"B365AHA\", \"PAHH\", \"PAHA\", \"MaxAHH\", \"MaxAHA\", \"AvgAHH\", \"AvgAHA\", \"B365CH\",\n",
    "                 \"B365CD\", \"B365CA\", \"BWCH\", \"BWCD\", \"BWCA\", \"IWCH\", \"IWCD\", \"IWCA\", \"PSCH\", \"PSCD\", \"PSCA\", \"WHCH\", \"WHCD\", \"WHCA\",\n",
    "                 \"VCCH\", \"VCCD\", \"VCCA\", \"MaxCH\", \"MaxCD\", \"MaxCA\", \"AvgCH\", \"AvgCD\", \"AvgCA\", \"B365C>2.5\", \"B365C<2.5\", \"PC>2.5\",\n",
    "                 \"PC<2.5\", \"MaxC>2.5\", \"MaxC<2.5\", \"AvgC>2.5\", \"AvgC<2.5\", \"AHCh\", \"B365CAHH\", \"B365CAHA\", \"PCAHH\", \"PCAHA\", \"MaxCAHH\",\n",
    "                 \"MaxCAHA\", \"AvgCAHH\", \"AvgCAHA\"]\n",
    "\n",
    "website_frame.drop(columns = unwanted_cols, inplace = True)"
   ]
  },
  {
   "cell_type": "code",
   "execution_count": null,
   "id": "00cda5a1-4a77-4d68-8a18-0063ecbfaaea",
   "metadata": {},
   "outputs": [],
   "source": [
    "# Rename columns\n",
    "website_frame.rename(columns = {\"FTHG\": \"FullTimeHomeTeamGoals\",\n",
    "                               \"FTAG\": \"FullTimeAwayTeamGoals\",\n",
    "                               \"FTR\": \"FullTimeResult\",\n",
    "                               \"HTHG\": \"HalfTimeHomeTeamGoals\",\n",
    "                               \"HTAG\": \"HalfTimeAwayTeamGoals\",\n",
    "                               \"HTR\": \"HalfTimeResult\",\n",
    "                               \"HS\": \"HomeTeamShots\",\n",
    "                               \"AS\": \"AwayTeamShots\",\n",
    "                               \"HST\": \"HomeTeamShotsOnTarget\",\n",
    "                               \"AST\": \"AwayTeamShotsOnTarget\",\n",
    "                               \"HF\": \"HomeTeamFouls\",\n",
    "                               \"AF\": \"AwayTeamFouls\",\n",
    "                               \"HC\": \"HomeTeamCorners\",\n",
    "                               \"AC\": \"AwayTeamCorners\",\n",
    "                               \"HY\": \"HomeTeamYellowCards\",\n",
    "                               \"AY\": \"AwayTeamYellowCards\",\n",
    "                               \"HR\": \"HomeTeamRedCards\",\n",
    "                               \"AR\": \"AwayTeamRedCards\",\n",
    "                               \"B365H\": \"B365HomeTeam\",\n",
    "                               \"B365D\": \"B365Draw\",\n",
    "                               \"B365A\": \"B365AwayTeam\",\n",
    "                               \"MaxH\": \"MarketMaxHomeTeam\",\n",
    "                               \"MaxD\": \"MarketMaxDraw\",\n",
    "                               \"MaxA\": \"MarketMaxAwayTeam\",\n",
    "                               \"AvgH\": \"MarketAvgHomeTeam\",\n",
    "                               \"AvgD\": \"MarketAvgDraw\",\n",
    "                               \"AvgA\": \"MarketAvgAwayTeam\",\n",
    "                               \"B365>2.5\": \"B365Over2.5Goals\",\n",
    "                               \"B365<2.5\": \"B365Under2.5Goals\",\n",
    "                               \"Max>2.5\": \"MarketMaxOver2.5Goals\",\n",
    "                               \"Max<2.5\": \"MarketMaxUnder2.5Goals\",\n",
    "                               \"Avg>2.5\": \"MarketAvgOver2.5Goals\",\n",
    "                               \"Avg<2.5\": \"MarketAvgUnder2.5Goals\"},\n",
    "                   inplace = True)\n"
   ]
  },
  {
   "cell_type": "code",
   "execution_count": null,
   "id": "66bda270-f2c2-4fac-8659-28a9e5d9827c",
   "metadata": {},
   "outputs": [],
   "source": [
    "# Add MatchID column\n",
    "\n",
    "website_frame.insert(0, \"MatchID\", constants.CURRENT_SEASON_TAG + \"_\" + website_frame[\"HomeTeam\"] + \"_\" + website_frame[\"AwayTeam\"])"
   ]
  },
  {
   "cell_type": "code",
   "execution_count": null,
   "id": "8f8b50c0-f77b-47ed-aae4-6ca9fe6c44fa",
   "metadata": {},
   "outputs": [],
   "source": [
    "# Add season column\n",
    "\n",
    "website_frame.insert(1, \"Season\", constants.CURRENT_SEASON_TAG)"
   ]
  },
  {
   "cell_type": "code",
   "execution_count": null,
   "id": "446ab4a8-b40e-4992-8873-7fc9a870843d",
   "metadata": {},
   "outputs": [],
   "source": [
    "# Stablish a connection to Database data source and fetch last game so we can know current matchweek\n",
    "\n",
    "try:\n",
    "    connection = psycopg2.connect(\n",
    "        host = constants.DB_SERVER,\n",
    "        port = constants.DB_PORT,\n",
    "        user = constants.DB_USER,\n",
    "        password = constants.DB_PASSWORD,\n",
    "        database = constants.DB_NAME\n",
    "    )\n",
    "except psycopg2.Error as e:\n",
    "    print (f'Can not connect to the postgress database \"{constants.DB_NAME}\". Make sure database server is running')\n",
    "    print (e)\n",
    "else:\n",
    "    print (f'Connection to database \"{constants.DB_NAME}\" stablished. Listening at port {constants.DB_PORT}')\n"
   ]
  },
  {
   "cell_type": "code",
   "execution_count": null,
   "id": "18f8b6f5-3bf9-4f40-873c-0fdc67326f3a",
   "metadata": {},
   "outputs": [],
   "source": [
    "# Find out current season matchweek\n",
    "next_matchweek = calculate_matchweek(connection)"
   ]
  },
  {
   "cell_type": "code",
   "execution_count": null,
   "id": "a37a2be8-9a0d-42ba-8788-f8a3b9d08925",
   "metadata": {},
   "outputs": [],
   "source": [
    "# Add MatchWeek column\n",
    "\n",
    "website_frame.insert(2, \"MatchWeek\", next_matchweek)"
   ]
  },
  {
   "cell_type": "code",
   "execution_count": null,
   "id": "54dcc98e-e07a-4f71-a5a9-2e83b66c6671",
   "metadata": {},
   "outputs": [],
   "source": [
    "# Add Points columns\n",
    "\n",
    "conditions = [\n",
    "     website_frame[\"FullTimeResult\"] == 'H',\n",
    "     website_frame[\"FullTimeResult\"] == 'D',\n",
    "     website_frame[\"FullTimeResult\"] == 'A'\n",
    "]\n",
    "\n",
    "home_points = [ 3, 1, 0]\n",
    "away_points = [ 0, 1, 3]\n",
    "\n",
    "website_frame[\"HomeTeamPoints\"] = np.select(conditions, home_points)\n",
    "website_frame[\"AwayTeamPoints\"] = np.select(conditions, away_points)"
   ]
  },
  {
   "cell_type": "code",
   "execution_count": null,
   "id": "a1866603-b8fa-42c7-8ece-198379f3c2ca",
   "metadata": {},
   "outputs": [],
   "source": [
    "# -- LOAD\n",
    "\n",
    "# Keep up to date postgresql database\n",
    "\n",
    "insert_statement = upsert_query(\"public.match_history\", \"MatchID\", website_frame)"
   ]
  },
  {
   "cell_type": "code",
   "execution_count": null,
   "id": "30d75a1f-fac7-4cf2-9912-a8f095a5363e",
   "metadata": {},
   "outputs": [],
   "source": [
    "try:\n",
    "    with connection.cursor() as cursor:\n",
    "        cursor.execute(insert_statement)\n",
    "        rowsAffected = cursor.rowcount\n",
    "        connection.commit()\n",
    "except psycopg2.Error as e:\n",
    "    print (f'Can not connect to the postgress database \"{constants.DB_NAME}\". Make sure database server is running')\n",
    "    print (e)\n",
    "else:\n",
    "    print (f\"New Rows in Match History: {rowsAffected}\")\n",
    "finally:\n",
    "    cursor.close()"
   ]
  },
  {
   "cell_type": "code",
   "execution_count": null,
   "id": "b1e4f29f-bac6-4f76-a510-c00c878570eb",
   "metadata": {},
   "outputs": [],
   "source": [
    "# Keep up to date master dataset\n",
    "try:\n",
    "    with connection.cursor() as cursor:\n",
    "        date_config = sql.SQL('SET datestyle = \"ISO, DMY\"; ')\n",
    "        select_statement = sql.SQL(\"SELECT * FROM public.match_history\")\n",
    "        final_statement = date_config + select_statement\n",
    "        cursor.execute(final_statement)\n",
    "        results = cursor.fetchall()\n",
    "        with(open(constants.MASTER_CSV_URL, mode='w',newline=\"\") as file):\n",
    "            writer = csv.writer(file)\n",
    "            # write column names\n",
    "            writer.writerow([column_description[0] for column_description in cursor.description])\n",
    "            writer.writerows(results)\n",
    "except psycopg2.Error as e:\n",
    "    print (f'Can not connect to the postgress database \"{constants.DB_NAME}\". Make sure database server is running')\n",
    "    print (e)\n",
    "else:\n",
    "    print (f\"Rows in Master CSV Dataset: {cursor.rowcount}\")\n",
    "finally:\n",
    "    cursor.close()\n",
    "            "
   ]
  },
  {
   "cell_type": "code",
   "execution_count": null,
   "id": "7a87cb6b-c085-409f-bd9e-426cca2bbfac",
   "metadata": {},
   "outputs": [],
   "source": [
    "# Keep up to date Kaggle dataset"
   ]
  }
 ],
 "metadata": {
  "kernelspec": {
   "display_name": "Python 3 (ipykernel)",
   "language": "python",
   "name": "python3"
  },
  "language_info": {
   "codemirror_mode": {
    "name": "ipython",
    "version": 3
   },
   "file_extension": ".py",
   "mimetype": "text/x-python",
   "name": "python",
   "nbconvert_exporter": "python",
   "pygments_lexer": "ipython3",
   "version": "3.12.4"
  }
 },
 "nbformat": 4,
 "nbformat_minor": 5
}
