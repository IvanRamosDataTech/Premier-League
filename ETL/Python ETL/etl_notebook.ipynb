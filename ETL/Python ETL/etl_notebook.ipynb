{
 "cells": [
  {
   "cell_type": "code",
   "execution_count": 1,
   "id": "06bbf586-883c-43b3-9307-84e3e11406cf",
   "metadata": {},
   "outputs": [],
   "source": [
    "# In case iPython does not find our personalized modules and we want to import them manually\n",
    "# import sys\n",
    "# sys.path.append('my/path/to/module/folder')\n",
    "# import module_of_interest\n",
    "\n",
    "# We can also make sure what's the main directory iPhython consider for running\n",
    "# import os\n",
    "# os.getcwd()\n",
    "\n",
    "import constants\n",
    "import requests\n",
    "import pandas as pd\n",
    "import numpy as np\n",
    "import psycopg2\n",
    "import csv\n",
    "import datetime\n",
    "\n",
    "pd.set_option('display.max_rows', 100)\n",
    "pd.set_option('display.max_columns', 50)\n"
   ]
  },
  {
   "cell_type": "code",
   "execution_count": 2,
   "id": "f7a26518-0b1c-4828-ba81-e24393c45349",
   "metadata": {},
   "outputs": [],
   "source": [
    "website_frame = pd.read_csv(constants.CSV_SOURCE_URL)"
   ]
  },
  {
   "cell_type": "code",
   "execution_count": 3,
   "id": "d2a133e9-23bf-40a0-8465-3de1037f6507",
   "metadata": {},
   "outputs": [
    {
     "data": {
      "text/plain": [
       "(380, 106)"
      ]
     },
     "execution_count": 3,
     "metadata": {},
     "output_type": "execute_result"
    }
   ],
   "source": [
    "website_frame.shape"
   ]
  },
  {
   "cell_type": "code",
   "execution_count": 4,
   "id": "72586d40-0b33-4575-a3a4-ce3dd3cc725d",
   "metadata": {},
   "outputs": [],
   "source": [
    "# Remove unwanted columns\n",
    "\n",
    "unwanted_cols = [\"Div\", \"BWH\", \"BWD\", \"BWA\", \"IWH\", \"IWD\", \"IWA\", \"PSH\", \"PSD\", \"PSA\", \"WHH\", \"WHD\", \"WHA\", \"VCH\", \"VCD\", \"VCA\",\n",
    "                 \"P>2.5\", \"P<2.5\",\"AHh\", \"B365AHH\", \"B365AHA\", \"PAHH\", \"PAHA\", \"MaxAHH\", \"MaxAHA\", \"AvgAHH\", \"AvgAHA\", \"B365CH\",\n",
    "                 \"B365CD\", \"B365CA\", \"BWCH\", \"BWCD\", \"BWCA\", \"IWCH\", \"IWCD\", \"IWCA\", \"PSCH\", \"PSCD\", \"PSCA\", \"WHCH\", \"WHCD\", \"WHCA\",\n",
    "                 \"VCCH\", \"VCCD\", \"VCCA\", \"MaxCH\", \"MaxCD\", \"MaxCA\", \"AvgCH\", \"AvgCD\", \"AvgCA\", \"B365C>2.5\", \"B365C<2.5\", \"PC>2.5\",\n",
    "                 \"PC<2.5\", \"MaxC>2.5\", \"MaxC<2.5\", \"AvgC>2.5\", \"AvgC<2.5\", \"AHCh\", \"B365CAHH\", \"B365CAHA\", \"PCAHH\", \"PCAHA\", \"MaxCAHH\",\n",
    "                 \"MaxCAHA\", \"AvgCAHH\", \"AvgCAHA\"]\n",
    "\n",
    "website_frame.drop(columns = unwanted_cols, inplace = True)"
   ]
  },
  {
   "cell_type": "code",
   "execution_count": 5,
   "id": "00cda5a1-4a77-4d68-8a18-0063ecbfaaea",
   "metadata": {},
   "outputs": [],
   "source": [
    "# Rename columns\n",
    "website_frame.rename(columns = {\"FTHG\": \"FullTimeHomeTeamGoals\",\n",
    "                               \"FTAG\": \"FullTimeAwayTeamGoals\",\n",
    "                               \"FTR\": \"FullTimeResult\",\n",
    "                               \"HTHG\": \"HalfTimeHomeTeamGoals\",\n",
    "                               \"HTAG\": \"HalfTimeAwayTeamGoals\",\n",
    "                               \"HTR\": \"HalfTimeResult\",\n",
    "                               \"HS\": \"HomeTeamShots\",\n",
    "                               \"AS\": \"AwayTeamShots\",\n",
    "                               \"HST\": \"HomeTeamShotsOnTarget\",\n",
    "                               \"AST\": \"AwayTeamShotsOnTarget\",\n",
    "                               \"HF\": \"HomeTeamFouls\",\n",
    "                               \"AF\": \"AwayTeamFouls\",\n",
    "                               \"HC\": \"HomeTeamCorners\",\n",
    "                               \"AC\": \"AwayTeamCorners\",\n",
    "                               \"HY\": \"HomeTeamYellowCards\",\n",
    "                               \"AY\": \"AwayTeamYellowCards\",\n",
    "                               \"HR\": \"HomeTeamRedCards\",\n",
    "                               \"AR\": \"AwayTeamRedCards\",\n",
    "                               \"B365H\": \"B365HomeTeam\",\n",
    "                               \"B365D\": \"B365Draw\",\n",
    "                               \"B365A\": \"B365AwayTeam\",\n",
    "                               \"MaxH\": \"MarketMaxHomeTeam\",\n",
    "                               \"MaxD\": \"MarketMaxDraw\",\n",
    "                               \"MaxA\": \"MarketMaxAwayTeam\",\n",
    "                               \"AvgH\": \"MarketAvgHomeTeam\",\n",
    "                               \"AvgD\": \"MarketAvgDraw\",\n",
    "                               \"AvgA\": \"MarketAvgAwayTeam\",\n",
    "                               \"B365>2.5\": \"B365Over2.5Goals\",\n",
    "                               \"B365<2.5\": \"B365Under2.5Goals\",\n",
    "                               \"Max>2.5\": \"MarketMaxOver2.5Goals\",\n",
    "                               \"Max<2.5\": \"MarketMaxUnder2.5Goals\",\n",
    "                               \"Avg>2.5\": \"MarketAvgOver2.5Goals\",\n",
    "                               \"Avg<2.5\": \"MarketAvgUnder2.5Goals\"},\n",
    "                   inplace = True)\n"
   ]
  },
  {
   "cell_type": "code",
   "execution_count": 6,
   "id": "8f8b50c0-f77b-47ed-aae4-6ca9fe6c44fa",
   "metadata": {},
   "outputs": [],
   "source": [
    "# Add season column\n",
    "\n",
    "website_frame.insert(0, \"Season\", constants.CURRENT_SEASON_TAG)"
   ]
  },
  {
   "cell_type": "code",
   "execution_count": 7,
   "id": "a37a2be8-9a0d-42ba-8788-f8a3b9d08925",
   "metadata": {},
   "outputs": [],
   "source": [
    "# Add MatchWeek value\n",
    "\n",
    "website_frame.insert(1, \"MatchWeek\", constants.DEFAULT_MATCHWEEK)"
   ]
  },
  {
   "cell_type": "code",
   "execution_count": 11,
   "id": "54dcc98e-e07a-4f71-a5a9-2e83b66c6671",
   "metadata": {},
   "outputs": [],
   "source": [
    "# Add Points columns\n",
    "\n",
    "conditions = [\n",
    "     website_frame[\"FullTimeResult\"] == 'H',\n",
    "     website_frame[\"FullTimeResult\"] == 'D',\n",
    "     website_frame[\"FullTimeResult\"] == 'A'\n",
    "]\n",
    "\n",
    "home_points = [ 3, 1, 0]\n",
    "away_points = [ 0, 1, 3]\n",
    "\n",
    "website_frame[\"HomeTeamPoints\"] = np.select(conditions, home_points)\n",
    "website_frame[\"AwayTeamPoints\"] = np.select(conditions, away_points)"
   ]
  },
  {
   "cell_type": "code",
   "execution_count": 15,
   "id": "759a8eb0-e95c-44df-9eef-539d899dfa35",
   "metadata": {},
   "outputs": [
    {
     "data": {
      "text/plain": [
       "(380, 42)"
      ]
     },
     "execution_count": 15,
     "metadata": {},
     "output_type": "execute_result"
    }
   ],
   "source": [
    "website_frame.shape"
   ]
  },
  {
   "cell_type": "code",
   "execution_count": 12,
   "id": "446ab4a8-b40e-4992-8873-7fc9a870843d",
   "metadata": {},
   "outputs": [
    {
     "name": "stdout",
     "output_type": "stream",
     "text": [
      "Connection to database \"premier_league\" stablished. Listening at port 5432\n"
     ]
    }
   ],
   "source": [
    "# Stablish a connection to Database data source and fetch all matches stored from current season\n",
    "\n",
    "try:\n",
    "    connection = psycopg2.connect(\n",
    "        host = \"localhost\",\n",
    "        port = \"5432\",\n",
    "        user = \"admin\",\n",
    "        password = \"root\",\n",
    "        database = \"premier_league\"\n",
    "    )\n",
    "except psycopg2.Error as e:\n",
    "    print ('Can not connect to the postgress database \"premier_league\". Make sure database server is running')\n",
    "    print (e)\n",
    "else:\n",
    "    print ('Connection to database \"premier_league\" stablished. Listening at port 5432')\n",
    "\n",
    "season_query = f\"SELECT * FROM public.match_history WHERE \\\"Season\\\" = '{constants.CURRENT_SEASON_TAG}'\"\n",
    "\n",
    "cursor = connection.cursor()\n",
    "cursor.execute(season_query)\n",
    "matches_in_db = cursor.fetchall()"
   ]
  },
  {
   "cell_type": "code",
   "execution_count": 13,
   "id": "da1d4e1e-ef35-4649-b74a-5ef79285f388",
   "metadata": {},
   "outputs": [],
   "source": [
    "# Copy cursor into a dataframe\n",
    "postgres_frame = pd.DataFrame(data = matches_in_db, columns = website_frame.columns)"
   ]
  },
  {
   "cell_type": "code",
   "execution_count": 26,
   "id": "54bdaa46-4fa1-492e-82e1-3ed216f9a10a",
   "metadata": {},
   "outputs": [
    {
     "ename": "ValueError",
     "evalue": "Can only compare identically-labeled (both index and columns) DataFrame objects",
     "output_type": "error",
     "traceback": [
      "\u001b[1;31m---------------------------------------------------------------------------\u001b[0m",
      "\u001b[1;31mValueError\u001b[0m                                Traceback (most recent call last)",
      "\u001b[1;32m~\\AppData\\Local\\Temp\\ipykernel_13484\\3874839853.py\u001b[0m in \u001b[0;36m?\u001b[1;34m()\u001b[0m\n\u001b[1;32m----> 1\u001b[1;33m \u001b[0mwebsite_frame\u001b[0m\u001b[1;33m.\u001b[0m\u001b[0mcompare\u001b[0m\u001b[1;33m(\u001b[0m\u001b[0mpostgres_frame\u001b[0m\u001b[1;33m)\u001b[0m\u001b[1;33m\u001b[0m\u001b[1;33m\u001b[0m\u001b[0m\n\u001b[0m",
      "\u001b[1;32mc:\\Users\\josue\\OneDrive\\Documents\\Premier-League\\ETL\\Python ETL\\.venv\\Lib\\site-packages\\pandas\\core\\frame.py\u001b[0m in \u001b[0;36m?\u001b[1;34m(self, other, align_axis, keep_shape, keep_equal, result_names)\u001b[0m\n\u001b[0;32m   8589\u001b[0m         \u001b[0mkeep_shape\u001b[0m\u001b[1;33m:\u001b[0m \u001b[0mbool\u001b[0m \u001b[1;33m=\u001b[0m \u001b[1;32mFalse\u001b[0m\u001b[1;33m,\u001b[0m\u001b[1;33m\u001b[0m\u001b[1;33m\u001b[0m\u001b[0m\n\u001b[0;32m   8590\u001b[0m         \u001b[0mkeep_equal\u001b[0m\u001b[1;33m:\u001b[0m \u001b[0mbool\u001b[0m \u001b[1;33m=\u001b[0m \u001b[1;32mFalse\u001b[0m\u001b[1;33m,\u001b[0m\u001b[1;33m\u001b[0m\u001b[1;33m\u001b[0m\u001b[0m\n\u001b[0;32m   8591\u001b[0m         \u001b[0mresult_names\u001b[0m\u001b[1;33m:\u001b[0m \u001b[0mSuffixes\u001b[0m \u001b[1;33m=\u001b[0m \u001b[1;33m(\u001b[0m\u001b[1;34m\"self\"\u001b[0m\u001b[1;33m,\u001b[0m \u001b[1;34m\"other\"\u001b[0m\u001b[1;33m)\u001b[0m\u001b[1;33m,\u001b[0m\u001b[1;33m\u001b[0m\u001b[1;33m\u001b[0m\u001b[0m\n\u001b[0;32m   8592\u001b[0m     \u001b[1;33m)\u001b[0m \u001b[1;33m->\u001b[0m \u001b[0mDataFrame\u001b[0m\u001b[1;33m:\u001b[0m\u001b[1;33m\u001b[0m\u001b[1;33m\u001b[0m\u001b[0m\n\u001b[1;32m-> 8593\u001b[1;33m         return super().compare(\n\u001b[0m\u001b[0;32m   8594\u001b[0m             \u001b[0mother\u001b[0m\u001b[1;33m=\u001b[0m\u001b[0mother\u001b[0m\u001b[1;33m,\u001b[0m\u001b[1;33m\u001b[0m\u001b[1;33m\u001b[0m\u001b[0m\n\u001b[0;32m   8595\u001b[0m             \u001b[0malign_axis\u001b[0m\u001b[1;33m=\u001b[0m\u001b[0malign_axis\u001b[0m\u001b[1;33m,\u001b[0m\u001b[1;33m\u001b[0m\u001b[1;33m\u001b[0m\u001b[0m\n\u001b[0;32m   8596\u001b[0m             \u001b[0mkeep_shape\u001b[0m\u001b[1;33m=\u001b[0m\u001b[0mkeep_shape\u001b[0m\u001b[1;33m,\u001b[0m\u001b[1;33m\u001b[0m\u001b[1;33m\u001b[0m\u001b[0m\n",
      "\u001b[1;32mc:\\Users\\josue\\OneDrive\\Documents\\Premier-League\\ETL\\Python ETL\\.venv\\Lib\\site-packages\\pandas\\core\\generic.py\u001b[0m in \u001b[0;36m?\u001b[1;34m(self, other, align_axis, keep_shape, keep_equal, result_names)\u001b[0m\n\u001b[0;32m  10117\u001b[0m             raise TypeError(\n\u001b[0;32m  10118\u001b[0m                 \u001b[1;33mf\"\u001b[0m\u001b[1;33mcan only compare '\u001b[0m\u001b[1;33m{\u001b[0m\u001b[0mcls_self\u001b[0m\u001b[1;33m}\u001b[0m\u001b[1;33m' (not '\u001b[0m\u001b[1;33m{\u001b[0m\u001b[0mcls_other\u001b[0m\u001b[1;33m}\u001b[0m\u001b[1;33m') with '\u001b[0m\u001b[1;33m{\u001b[0m\u001b[0mcls_self\u001b[0m\u001b[1;33m}\u001b[0m\u001b[1;33m'\u001b[0m\u001b[1;33m\"\u001b[0m\u001b[1;33m\u001b[0m\u001b[1;33m\u001b[0m\u001b[0m\n\u001b[0;32m  10119\u001b[0m             \u001b[1;33m)\u001b[0m\u001b[1;33m\u001b[0m\u001b[1;33m\u001b[0m\u001b[0m\n\u001b[0;32m  10120\u001b[0m \u001b[1;33m\u001b[0m\u001b[0m\n\u001b[1;32m> 10121\u001b[1;33m         \u001b[0mmask\u001b[0m \u001b[1;33m=\u001b[0m \u001b[1;33m~\u001b[0m\u001b[1;33m(\u001b[0m\u001b[1;33m(\u001b[0m\u001b[0mself\u001b[0m \u001b[1;33m==\u001b[0m \u001b[0mother\u001b[0m\u001b[1;33m)\u001b[0m \u001b[1;33m|\u001b[0m \u001b[1;33m(\u001b[0m\u001b[0mself\u001b[0m\u001b[1;33m.\u001b[0m\u001b[0misna\u001b[0m\u001b[1;33m(\u001b[0m\u001b[1;33m)\u001b[0m \u001b[1;33m&\u001b[0m \u001b[0mother\u001b[0m\u001b[1;33m.\u001b[0m\u001b[0misna\u001b[0m\u001b[1;33m(\u001b[0m\u001b[1;33m)\u001b[0m\u001b[1;33m)\u001b[0m\u001b[1;33m)\u001b[0m\u001b[1;33m\u001b[0m\u001b[1;33m\u001b[0m\u001b[0m\n\u001b[0m\u001b[0;32m  10122\u001b[0m         \u001b[0mmask\u001b[0m\u001b[1;33m.\u001b[0m\u001b[0mfillna\u001b[0m\u001b[1;33m(\u001b[0m\u001b[1;32mTrue\u001b[0m\u001b[1;33m,\u001b[0m \u001b[0minplace\u001b[0m\u001b[1;33m=\u001b[0m\u001b[1;32mTrue\u001b[0m\u001b[1;33m)\u001b[0m\u001b[1;33m\u001b[0m\u001b[1;33m\u001b[0m\u001b[0m\n\u001b[0;32m  10123\u001b[0m \u001b[1;33m\u001b[0m\u001b[0m\n\u001b[0;32m  10124\u001b[0m         \u001b[1;32mif\u001b[0m \u001b[1;32mnot\u001b[0m \u001b[0mkeep_equal\u001b[0m\u001b[1;33m:\u001b[0m\u001b[1;33m\u001b[0m\u001b[1;33m\u001b[0m\u001b[0m\n",
      "\u001b[1;32mc:\\Users\\josue\\OneDrive\\Documents\\Premier-League\\ETL\\Python ETL\\.venv\\Lib\\site-packages\\pandas\\core\\ops\\common.py\u001b[0m in \u001b[0;36m?\u001b[1;34m(self, other)\u001b[0m\n\u001b[0;32m     72\u001b[0m                     \u001b[1;32mreturn\u001b[0m \u001b[0mNotImplemented\u001b[0m\u001b[1;33m\u001b[0m\u001b[1;33m\u001b[0m\u001b[0m\n\u001b[0;32m     73\u001b[0m \u001b[1;33m\u001b[0m\u001b[0m\n\u001b[0;32m     74\u001b[0m         \u001b[0mother\u001b[0m \u001b[1;33m=\u001b[0m \u001b[0mitem_from_zerodim\u001b[0m\u001b[1;33m(\u001b[0m\u001b[0mother\u001b[0m\u001b[1;33m)\u001b[0m\u001b[1;33m\u001b[0m\u001b[1;33m\u001b[0m\u001b[0m\n\u001b[0;32m     75\u001b[0m \u001b[1;33m\u001b[0m\u001b[0m\n\u001b[1;32m---> 76\u001b[1;33m         \u001b[1;32mreturn\u001b[0m \u001b[0mmethod\u001b[0m\u001b[1;33m(\u001b[0m\u001b[0mself\u001b[0m\u001b[1;33m,\u001b[0m \u001b[0mother\u001b[0m\u001b[1;33m)\u001b[0m\u001b[1;33m\u001b[0m\u001b[1;33m\u001b[0m\u001b[0m\n\u001b[0m",
      "\u001b[1;32mc:\\Users\\josue\\OneDrive\\Documents\\Premier-League\\ETL\\Python ETL\\.venv\\Lib\\site-packages\\pandas\\core\\arraylike.py\u001b[0m in \u001b[0;36m?\u001b[1;34m(self, other)\u001b[0m\n\u001b[0;32m     38\u001b[0m     \u001b[1;33m@\u001b[0m\u001b[0munpack_zerodim_and_defer\u001b[0m\u001b[1;33m(\u001b[0m\u001b[1;34m\"__eq__\"\u001b[0m\u001b[1;33m)\u001b[0m\u001b[1;33m\u001b[0m\u001b[1;33m\u001b[0m\u001b[0m\n\u001b[0;32m     39\u001b[0m     \u001b[1;32mdef\u001b[0m \u001b[0m__eq__\u001b[0m\u001b[1;33m(\u001b[0m\u001b[0mself\u001b[0m\u001b[1;33m,\u001b[0m \u001b[0mother\u001b[0m\u001b[1;33m)\u001b[0m\u001b[1;33m:\u001b[0m\u001b[1;33m\u001b[0m\u001b[1;33m\u001b[0m\u001b[0m\n\u001b[1;32m---> 40\u001b[1;33m         \u001b[1;32mreturn\u001b[0m \u001b[0mself\u001b[0m\u001b[1;33m.\u001b[0m\u001b[0m_cmp_method\u001b[0m\u001b[1;33m(\u001b[0m\u001b[0mother\u001b[0m\u001b[1;33m,\u001b[0m \u001b[0moperator\u001b[0m\u001b[1;33m.\u001b[0m\u001b[0meq\u001b[0m\u001b[1;33m)\u001b[0m\u001b[1;33m\u001b[0m\u001b[1;33m\u001b[0m\u001b[0m\n\u001b[0m",
      "\u001b[1;32mc:\\Users\\josue\\OneDrive\\Documents\\Premier-League\\ETL\\Python ETL\\.venv\\Lib\\site-packages\\pandas\\core\\frame.py\u001b[0m in \u001b[0;36m?\u001b[1;34m(self, other, op)\u001b[0m\n\u001b[0;32m   7894\u001b[0m     \u001b[1;32mdef\u001b[0m \u001b[0m_cmp_method\u001b[0m\u001b[1;33m(\u001b[0m\u001b[0mself\u001b[0m\u001b[1;33m,\u001b[0m \u001b[0mother\u001b[0m\u001b[1;33m,\u001b[0m \u001b[0mop\u001b[0m\u001b[1;33m)\u001b[0m\u001b[1;33m:\u001b[0m\u001b[1;33m\u001b[0m\u001b[1;33m\u001b[0m\u001b[0m\n\u001b[0;32m   7895\u001b[0m         \u001b[0maxis\u001b[0m\u001b[1;33m:\u001b[0m \u001b[0mLiteral\u001b[0m\u001b[1;33m[\u001b[0m\u001b[1;36m1\u001b[0m\u001b[1;33m]\u001b[0m \u001b[1;33m=\u001b[0m \u001b[1;36m1\u001b[0m  \u001b[1;31m# only relevant for Series other case\u001b[0m\u001b[1;33m\u001b[0m\u001b[1;33m\u001b[0m\u001b[0m\n\u001b[0;32m   7896\u001b[0m \u001b[1;33m\u001b[0m\u001b[0m\n\u001b[1;32m-> 7897\u001b[1;33m         \u001b[0mself\u001b[0m\u001b[1;33m,\u001b[0m \u001b[0mother\u001b[0m \u001b[1;33m=\u001b[0m \u001b[0mself\u001b[0m\u001b[1;33m.\u001b[0m\u001b[0m_align_for_op\u001b[0m\u001b[1;33m(\u001b[0m\u001b[0mother\u001b[0m\u001b[1;33m,\u001b[0m \u001b[0maxis\u001b[0m\u001b[1;33m,\u001b[0m \u001b[0mflex\u001b[0m\u001b[1;33m=\u001b[0m\u001b[1;32mFalse\u001b[0m\u001b[1;33m,\u001b[0m \u001b[0mlevel\u001b[0m\u001b[1;33m=\u001b[0m\u001b[1;32mNone\u001b[0m\u001b[1;33m)\u001b[0m\u001b[1;33m\u001b[0m\u001b[1;33m\u001b[0m\u001b[0m\n\u001b[0m\u001b[0;32m   7898\u001b[0m \u001b[1;33m\u001b[0m\u001b[0m\n\u001b[0;32m   7899\u001b[0m         \u001b[1;31m# See GH#4537 for discussion of scalar op behavior\u001b[0m\u001b[1;33m\u001b[0m\u001b[1;33m\u001b[0m\u001b[0m\n\u001b[0;32m   7900\u001b[0m         \u001b[0mnew_data\u001b[0m \u001b[1;33m=\u001b[0m \u001b[0mself\u001b[0m\u001b[1;33m.\u001b[0m\u001b[0m_dispatch_frame_op\u001b[0m\u001b[1;33m(\u001b[0m\u001b[0mother\u001b[0m\u001b[1;33m,\u001b[0m \u001b[0mop\u001b[0m\u001b[1;33m,\u001b[0m \u001b[0maxis\u001b[0m\u001b[1;33m=\u001b[0m\u001b[0maxis\u001b[0m\u001b[1;33m)\u001b[0m\u001b[1;33m\u001b[0m\u001b[1;33m\u001b[0m\u001b[0m\n",
      "\u001b[1;32mc:\\Users\\josue\\OneDrive\\Documents\\Premier-League\\ETL\\Python ETL\\.venv\\Lib\\site-packages\\pandas\\core\\frame.py\u001b[0m in \u001b[0;36m?\u001b[1;34m(self, other, axis, flex, level)\u001b[0m\n\u001b[0;32m   8192\u001b[0m                     left, right = left.align(\n\u001b[0;32m   8193\u001b[0m                         \u001b[0mright\u001b[0m\u001b[1;33m,\u001b[0m \u001b[0mjoin\u001b[0m\u001b[1;33m=\u001b[0m\u001b[1;34m\"outer\"\u001b[0m\u001b[1;33m,\u001b[0m \u001b[0mlevel\u001b[0m\u001b[1;33m=\u001b[0m\u001b[0mlevel\u001b[0m\u001b[1;33m,\u001b[0m \u001b[0mcopy\u001b[0m\u001b[1;33m=\u001b[0m\u001b[1;32mFalse\u001b[0m\u001b[1;33m\u001b[0m\u001b[1;33m\u001b[0m\u001b[0m\n\u001b[0;32m   8194\u001b[0m                     \u001b[1;33m)\u001b[0m\u001b[1;33m\u001b[0m\u001b[1;33m\u001b[0m\u001b[0m\n\u001b[0;32m   8195\u001b[0m                 \u001b[1;32melse\u001b[0m\u001b[1;33m:\u001b[0m\u001b[1;33m\u001b[0m\u001b[1;33m\u001b[0m\u001b[0m\n\u001b[1;32m-> 8196\u001b[1;33m                     raise ValueError(\n\u001b[0m\u001b[0;32m   8197\u001b[0m                         \u001b[1;34m\"Can only compare identically-labeled (both index and columns) \"\u001b[0m\u001b[1;33m\u001b[0m\u001b[1;33m\u001b[0m\u001b[0m\n\u001b[0;32m   8198\u001b[0m                         \u001b[1;34m\"DataFrame objects\"\u001b[0m\u001b[1;33m\u001b[0m\u001b[1;33m\u001b[0m\u001b[0m\n\u001b[0;32m   8199\u001b[0m                     \u001b[1;33m)\u001b[0m\u001b[1;33m\u001b[0m\u001b[1;33m\u001b[0m\u001b[0m\n",
      "\u001b[1;31mValueError\u001b[0m: Can only compare identically-labeled (both index and columns) DataFrame objects"
     ]
    }
   ],
   "source": [
    "website_frame.compare(postgres_frame)"
   ]
  },
  {
   "cell_type": "code",
   "execution_count": 27,
   "id": "c3ba75ed-6139-407e-9f73-97e9fe6a2a81",
   "metadata": {},
   "outputs": [
    {
     "data": {
      "text/plain": [
       "RangeIndex(start=0, stop=380, step=1)"
      ]
     },
     "execution_count": 27,
     "metadata": {},
     "output_type": "execute_result"
    }
   ],
   "source": [
    "# Copy depurated matchweeks from\n",
    "\n",
    "website_frame.index\n"
   ]
  },
  {
   "cell_type": "code",
   "execution_count": 28,
   "id": "dc232b6a-7fb3-4ac8-be27-c2e6cd9e1fb5",
   "metadata": {},
   "outputs": [
    {
     "data": {
      "text/plain": [
       "RangeIndex(start=0, stop=370, step=1)"
      ]
     },
     "execution_count": 28,
     "metadata": {},
     "output_type": "execute_result"
    }
   ],
   "source": [
    "postgres_frame.index"
   ]
  },
  {
   "cell_type": "code",
   "execution_count": null,
   "id": "20aceebf-f8cd-4666-8c0f-86ecc2857690",
   "metadata": {},
   "outputs": [],
   "source": [
    "# Now let's get only new match entries by contrasting what is comming from website datasource vs what DataBase has\n"
   ]
  },
  {
   "cell_type": "code",
   "execution_count": null,
   "id": "323a4d44-9dee-4358-9cae-f3c8fb09bbd0",
   "metadata": {},
   "outputs": [],
   "source": [
    "type(matches_in_db)"
   ]
  },
  {
   "cell_type": "code",
   "execution_count": null,
   "id": "fc35ea65-4008-490c-aa2f-bb3cc29c3433",
   "metadata": {},
   "outputs": [],
   "source": [
    "website_frame.head()"
   ]
  },
  {
   "cell_type": "code",
   "execution_count": null,
   "id": "52cd204f-6d7a-4fea-973c-55ada536dac9",
   "metadata": {},
   "outputs": [],
   "source": []
  },
  {
   "cell_type": "code",
   "execution_count": null,
   "id": "c1920c03-a869-45e1-a89a-fb8af763dcab",
   "metadata": {},
   "outputs": [],
   "source": []
  }
 ],
 "metadata": {
  "kernelspec": {
   "display_name": "Python 3 (ipykernel)",
   "language": "python",
   "name": "python3"
  },
  "language_info": {
   "codemirror_mode": {
    "name": "ipython",
    "version": 3
   },
   "file_extension": ".py",
   "mimetype": "text/x-python",
   "name": "python",
   "nbconvert_exporter": "python",
   "pygments_lexer": "ipython3",
   "version": "3.12.4"
  }
 },
 "nbformat": 4,
 "nbformat_minor": 5
}
